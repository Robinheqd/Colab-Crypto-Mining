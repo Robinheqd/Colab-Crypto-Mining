{
  "nbformat": 4,
  "nbformat_minor": 0,
  "metadata": {
    "colab": {
      "name": "Monero.ipynb",
      "provenance": [],
      "collapsed_sections": [],
      "authorship_tag": "ABX9TyMPDO8LZTT1LuyI760YrbJY",
      "include_colab_link": true
    },
    "kernelspec": {
      "name": "python3",
      "display_name": "Python 3"
    },
    "language_info": {
      "name": "python"
    }
  },
  "cells": [
    {
      "cell_type": "markdown",
      "metadata": {
        "id": "view-in-github",
        "colab_type": "text"
      },
      "source": [
        "<a href=\"https://colab.research.google.com/github/decoded-cipher/Colab-Crypto-Mining/blob/main/Monero.ipynb\" target=\"_parent\"><img src=\"https://colab.research.google.com/assets/colab-badge.svg\" alt=\"Open In Colab\"/></a>"
      ]
    },
    {
      "cell_type": "code",
      "metadata": {
        "id": "xzVyb_qWmkQt"
      },
      "source": [
        "!wget https://github.com/xmrig/xmrig/releases/download/v5.5.1/xmrig-5.5.1-xenial-x64.tar.gz"
      ],
      "execution_count": null,
      "outputs": []
    },
    {
      "cell_type": "code",
      "metadata": {
        "id": "WsD5OpPSmx5C"
      },
      "source": [
        "!tar -zxf xmrig-5.5.1-xenial-x64.tar.gz"
      ],
      "execution_count": null,
      "outputs": []
    },
    {
      "cell_type": "code",
      "metadata": {
        "id": "wZc3KkBim0Uu"
      },
      "source": [
        "cd xmrig-5.5.1"
      ],
      "execution_count": null,
      "outputs": []
    },
    {
      "cell_type": "code",
      "metadata": {
        "id": "lwnzM_eWm2Rp"
      },
      "source": [
        "!./xmrig -a cryptonight -o stratum+tcp://xmr.pool.minergate.com:45700 -u rtsnzmc8ak4mbcx -p x"
      ],
      "execution_count": null,
      "outputs": []
    }
  ]
}