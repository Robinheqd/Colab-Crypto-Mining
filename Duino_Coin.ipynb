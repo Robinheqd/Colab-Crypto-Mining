{
  "nbformat": 4,
  "nbformat_minor": 0,
  "metadata": {
    "colab": {
      "name": "Duino_Coin.ipynb",
      "private_outputs": true,
      "provenance": [],
      "include_colab_link": true
    },
    "kernelspec": {
      "name": "python3",
      "display_name": "Python 3"
    },
    "language_info": {
      "name": "python"
    },
    "accelerator": "GPU"
  },
  "cells": [
    {
      "cell_type": "markdown",
      "metadata": {
        "id": "view-in-github",
        "colab_type": "text"
      },
      "source": [
        "<a href=\"https://colab.research.google.com/github/decoded-cipher/Colab-Crypto-Mining/blob/main/Duino_Coin.ipynb\" target=\"_parent\"><img src=\"https://colab.research.google.com/assets/colab-badge.svg\" alt=\"Open In Colab\"/></a>"
      ]
    },
    {
      "cell_type": "code",
      "metadata": {
        "id": "0TEqWyAcEpMj"
      },
      "source": [
        "# Installing python3, pip, git and screen\n",
        "# screen : For running the script in the background\n",
        "\n",
        "!apt install python3 python3-pip git screen"
      ],
      "execution_count": null,
      "outputs": []
    },
    {
      "cell_type": "code",
      "metadata": {
        "id": "XLPTQtr3DPSL"
      },
      "source": [
        "# Cloning the repo to CoLab\n",
        "!git clone https://github.com/revoxhere/duino-coin.git"
      ],
      "execution_count": null,
      "outputs": []
    },
    {
      "cell_type": "code",
      "metadata": {
        "id": "N9WxA4ewG1E1"
      },
      "source": [
        "# Installing the additional packages that might be required while trying to run the next command\n",
        "!python3 -m pip install websocket-client colorama tronpy"
      ],
      "execution_count": null,
      "outputs": []
    },
    {
      "cell_type": "code",
      "metadata": {
        "id": "VV33ie1KFKrj"
      },
      "source": [
        "# Actual execution of the script\n",
        "\n",
        "# Script for viewing the Balance and thereby will help to ensure the connection has been made successfully\n",
        "#!python3 duino-coin/CLI_Wallet.py\n",
        "\n",
        "# Script for starting the actual Mining Node\n",
        "!python3 duino-coin/PC_Miner.py"
      ],
      "execution_count": null,
      "outputs": []
    },
    {
      "cell_type": "code",
      "metadata": {
        "id": "NB1Q_3z1DURL"
      },
      "source": [
        "# screen helps to exit the terminal (Not to exit the browser)\n",
        "# It helps to run the node in background\n",
        "\n",
        "!screen -S mining"
      ],
      "execution_count": null,
      "outputs": []
    }
  ]
}