{
  "nbformat": 4,
  "nbformat_minor": 0,
  "metadata": {
    "colab": {
      "name": "Duino_Coin.ipynb",
      "private_outputs": true,
      "provenance": [],
      "collapsed_sections": [],
      "include_colab_link": true
    },
    "kernelspec": {
      "name": "python3",
      "display_name": "Python 3"
    },
    "language_info": {
      "name": "python"
    },
    "accelerator": "GPU"
  },
  "cells": [
    {
      "cell_type": "markdown",
      "metadata": {
        "id": "view-in-github",
        "colab_type": "text"
      },
      "source": [
        "<a href=\"https://colab.research.google.com/github/decoded-cipher/Colab-Crypto-Mining/blob/main/Duino_Coin.ipynb\" target=\"_parent\"><img src=\"https://colab.research.google.com/assets/colab-badge.svg\" alt=\"Open In Colab\"/></a>"
      ]
    },
    {
      "cell_type": "markdown",
      "metadata": {
        "id": "3J4_S6dLi_lh"
      },
      "source": [
        "# **Duino-Coin**\n",
        "\n",
        "### The only coin that can be mined with **Computers**, **Raspberry Pis**, **Arduinos**, **ESP boards** and many more.\n",
        "\n",
        "---\n",
        "\n",
        "*   [Official Website of Duino-Coin](https://duinocoin.com/)\n",
        "*   [Diono-Coin Web Wallet](https://wallet.duinocoin.com/)  *(Register a Duino-Coin wallet before proceeding)*\n",
        "\n",
        "---\n",
        "\n",
        "**You can deploy multiple Google CoLab sessions from multiple Google Accounts and thereby arithmetically increment the Hashrate of the Mining Node.**\n",
        "\n",
        "(As a single session is onle permitted by Google CoLab at a time)\n",
        "\n",
        "*(Sorry to be ethically wrong here...)*"
      ]
    },
    {
      "cell_type": "code",
      "metadata": {
        "id": "0TEqWyAcEpMj"
      },
      "source": [
        "# Installing python3, pip, git and screen\n",
        "# screen : For running the script in the background\n",
        "\n",
        "!apt install python3 python3-pip git screen"
      ],
      "execution_count": null,
      "outputs": []
    },
    {
      "cell_type": "code",
      "metadata": {
        "id": "XLPTQtr3DPSL"
      },
      "source": [
        "# Cloning the repo to CoLab\n",
        "!git clone https://github.com/revoxhere/duino-coin.git"
      ],
      "execution_count": null,
      "outputs": []
    },
    {
      "cell_type": "code",
      "metadata": {
        "id": "N9WxA4ewG1E1"
      },
      "source": [
        "# Installing the additional packages that might be required while trying to run the next command\n",
        "!python3 -m pip install websocket-client colorama tronpy"
      ],
      "execution_count": null,
      "outputs": []
    },
    {
      "cell_type": "code",
      "metadata": {
        "id": "VV33ie1KFKrj"
      },
      "source": [
        "# Actual execution of the script\n",
        "\n",
        "# Script for viewing the Balance and thereby will help to ensure the connection has been made successfully\n",
        "#!python3 duino-coin/CLI_Wallet.py\n",
        "\n",
        "# Script for starting the actual Mining Node\n",
        "!python3 duino-coin/PC_Miner.py"
      ],
      "execution_count": null,
      "outputs": []
    },
    {
      "cell_type": "markdown",
      "metadata": {
        "id": "Uo9nRNeohrac"
      },
      "source": [
        "*   The screen package helps to exit the terminal and run the script on the background\n",
        "*   *It doesn't mean, we can exit the browser and close CoLab session.*"
      ]
    },
    {
      "cell_type": "code",
      "metadata": {
        "id": "NB1Q_3z1DURL"
      },
      "source": [
        "# It helps to run the node in background\n",
        "!screen -S mining\n",
        "# Press Ctrl + A and then press D to exit without interuption\n",
        "\n",
        "# To Re-enter into the background-running script\n",
        "#!screen -r mining\n",
        "# Press Ctrl + C to break the execution or Right-Click and select the option for Interuption\n",
        "# Press Ctrl + A and then press D to exit without interuption"
      ],
      "execution_count": null,
      "outputs": []
    }
  ]
}